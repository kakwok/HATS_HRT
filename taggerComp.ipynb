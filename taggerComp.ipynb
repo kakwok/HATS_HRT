{
 "cells": [
  {
   "cell_type": "markdown",
   "metadata": {},
   "source": [
    "# Signal files\n",
    "First let's look at the available signal files"
   ]
  },
  {
   "cell_type": "code",
   "execution_count": null,
   "metadata": {
    "scrolled": true
   },
   "outputs": [],
   "source": [
    "%%bash \n",
    "export XrdSecGSISRVNAMES=cmseos.fnal.gov\n",
    "xrdfs root://cmseos.fnal.gov/ ls /store/user/cmsdas/2023/short_exercises/tagging/"
   ]
  },
  {
   "cell_type": "markdown",
   "metadata": {},
   "source": [
    "We'll be using ROOT below, so let's import it now:"
   ]
  },
  {
   "cell_type": "code",
   "execution_count": null,
   "metadata": {},
   "outputs": [],
   "source": [
    "import ROOT as rt"
   ]
  },
  {
   "cell_type": "markdown",
   "metadata": {},
   "source": [
    "# Open signal files and inspect tree\n",
    "Let's open the one signal file and one background file and print the contents of the tree"
   ]
  },
  {
   "cell_type": "code",
   "execution_count": null,
   "metadata": {},
   "outputs": [],
   "source": [
    "filename_hh = 'root://cmseos.fnal.gov//store/user/cmsdas/2023/short_exercises/tagging/BulkGravTohh_tree_noc.root'\n",
    "filename_qcd = 'root://cmseos.fnal.gov//store/user/cmsdas/2023/short_exercises/tagging/qcd-pythia_tree_SLIM.root'\n",
    "\n",
    "file_hh = rt.TFile.Open(filename_hh)\n",
    "file_qcd = rt.TFile.Open(filename_qcd)\n",
    "\n",
    "tree_hh = file_hh.Get('Friends')\n",
    "tree_qcd = file_qcd.Get('Friends')\n",
    "tree_hh.Print()"
   ]
  },
  {
   "cell_type": "markdown",
   "metadata": {},
   "source": [
    "# Plot tagger distributions\n",
    "\n",
    "Let's plot each of the different discriminating variables distributions. The variable names are listed below. We'll look at them for the signal first and will also apply a couple of cuts that bring us closer to the signal region."
   ]
  },
  {
   "cell_type": "code",
   "execution_count": null,
   "metadata": {},
   "outputs": [],
   "source": [
    "%jsroot on\n",
    "\n",
    "tagger = 'ak8_sdmass'\n",
    "#tagger = 'ak8_tau21'\n",
    "#tagger = 'ak8_ecfN2'\n",
    "#tagger = 'ak8_doubleb'\n",
    "#tagger = 'ak8_nn_HbbvsQCD' # DeepAK8\n",
    "#tagger = 'ak8_decorr_nn_ZHbbvsQCD' # DeepAK8-MD\n",
    "#tagger = 'ak8_bestH'\n",
    "\n",
    "cuts = 'gen_pt > 1000 && gen_pt < 1500 && abs(gen_eta) < 2.4 && ak8_sdmass > 40 && ak8_sdmass < 200'\n",
    "\n",
    "c = rt.TCanvas('c','c',500,400)\n",
    "tree_hh.Draw(tagger, 'rewgt*(%s)'%cuts)\n",
    "\n",
    "c.Draw()\n",
    "# c.SaveAs('test.png') #uncomment if you are running on the FNAL Elastic Analysis Facility (EAF) to save the plot and see it."
   ]
  },
  {
   "cell_type": "markdown",
   "metadata": {},
   "source": [
    "# Checkpoint: \n",
    "\n",
    "Plot the output of the ML-based algorithms: e.g. for the Higgs case for DoubleB, DeepAK8 and DeepAK8-MD. Remember: the tagger score is usually a number between 0 and 1..."
   ]
  },
  {
   "cell_type": "code",
   "execution_count": null,
   "metadata": {},
   "outputs": [],
   "source": [
    "%jsroot on\n",
    "\n",
    "tagger = 'ak8_sdmass'\n",
    "#tagger = 'ak8_tau21'\n",
    "#tagger = 'ak8_ecfN2'\n",
    "#tagger = 'ak8_doubleb'\n",
    "#tagger = 'ak8_nn_HbbvsQCD' # DeepAK8\n",
    "#tagger = 'ak8_decorr_nn_ZHbbvsQCD' # DeepAK8-MD\n",
    "#tagger = 'ak8_bestH'\n",
    "\n",
    "cuts = 'gen_pt > 1000 && gen_pt < 1500 && abs(gen_eta) < 2.4 && ak8_sdmass > 40 && ak8_sdmass < 200'\n",
    "\n",
    "# Adjust the histogram x-ranges and binning here based on the plots you made above!\n",
    "hist_hh = rt.TH1D('hist_hh','hist_hh',85,30,200)\n",
    "hist_qcd = rt.TH1D('hist_qcd','hist_qcd',85,30,200)\n",
    "tree_hh.Project('hist_hh',tagger,'rewgt*(%s)'%cuts)\n",
    "tree_qcd.Project('hist_qcd',tagger,'genweight*(%s)'%cuts)\n",
    "\n",
    "c = rt.TCanvas('c','c',500,400)\n",
    "\n",
    "hist_hh.Scale(1/hist_hh.Integral())\n",
    "hist_qcd.Scale(1/hist_qcd.Integral())\n",
    "hist_qcd.SetLineColor(rt.kBlue)\n",
    "hist_hh.SetLineColor(rt.kRed)\n",
    "if hist_qcd.GetMaximum() > hist_hh.GetMaximum():\n",
    "    hist_qcd.Draw('h')\n",
    "    hist_hh.Draw('hsame')\n",
    "else:\n",
    "    hist_hh.Draw('h')\n",
    "    hist_qcd.Draw('hsame')\n",
    "c.Draw()\n",
    "# c.SaveAs('test.png') #uncomment if you are running on the FNAL Elastic Analysis Facility (EAF) to save the plot and see it."
   ]
  },
  {
   "cell_type": "markdown",
   "metadata": {},
   "source": [
    "# Convert tree to dataframe with `uproot`\n",
    "Open the file with `uproot` and convert the tree to a `pandas` dataframe."
   ]
  },
  {
   "cell_type": "code",
   "execution_count": null,
   "metadata": {},
   "outputs": [],
   "source": [
    "## this step may take some time \n",
    "\n",
    "import uproot\n",
    "#!pip install lz4 --user\n",
    "#!pip install xxhash --user\n",
    "\n",
    "uptree_hh = uproot.open(filename_hh)[\"Friends\"]\n",
    "uptree_qcd = uproot.open(filename_qcd)[\"Friends\"]\n",
    "\n",
    "branches = ['ak8_nn_HbbvsQCD',\n",
    "            'ak8_decorr_nn_ZHbbvsQCD',\n",
    "            'ak8_doubleb',\n",
    "            'ak8_tau21',\n",
    "            'ak8_ecfN2',\n",
    "            'ak8_bestH',\n",
    "            'ak8_sdmass',\n",
    "            'ak8_pt',\n",
    "            'ak8_eta',\n",
    "            'gen_pt',\n",
    "            'gen_eta']\n",
    "\n",
    "\n",
    "print(\"get hh\")\n",
    "df_hh = uptree_hh.pandas.df(branches=branches+['rewgt'])\n",
    "#print(df_hh)\n",
    "\n",
    "print(\"get QCD\")\n",
    "df_qcd = uptree_qcd.pandas.df(branches=branches+['genweight'])\n",
    "#print(df_qcd)"
   ]
  },
  {
   "cell_type": "markdown",
   "metadata": {},
   "source": [
    "# Apply cuts and merge dataframes\n",
    "Let's apply the same fiducial cuts and merge the signal and background dataframes"
   ]
  },
  {
   "cell_type": "code",
   "execution_count": null,
   "metadata": {},
   "outputs": [],
   "source": [
    "import pandas\n",
    "import numpy as np\n",
    "\n",
    "# mask higgs outside of fiducial cuts\n",
    "mask_hh = (df_hh['gen_pt'] > 1000) & (df_hh['gen_pt'] < 1500) & (np.abs(df_hh['gen_eta']) < 2.4) & (df_hh['ak8_sdmass'] > 40) & (df_hh['ak8_sdmass'] < 200)\n",
    "df_hh = df_hh[mask_hh]\n",
    "df_hh['sample_weight'] = df_hh['rewgt']\n",
    "df_hh['label'] = np.ones((len(df_hh)),dtype=int)\n",
    "\n",
    "# mask qcd outside of fiducial cuts\n",
    "mask_qcd = (df_qcd['gen_pt'] > 1000) & (df_qcd['gen_pt'] < 1500) & (np.abs(df_qcd['gen_eta']) < 2.4) & (df_qcd['ak8_sdmass'] > 40) & (df_qcd['ak8_sdmass'] < 200)\n",
    "df_qcd = df_qcd[mask_qcd]\n",
    "df_qcd['sample_weight'] = df_qcd['genweight']\n",
    "df_qcd['label'] = np.zeros((len(df_qcd)),dtype=int)\n",
    "\n",
    "# concatenate signal and background\n",
    "df = pandas.concat([df_hh,df_qcd])\n",
    "\n",
    "df"
   ]
  },
  {
   "cell_type": "markdown",
   "metadata": {},
   "source": [
    "# Plot ROCs\n",
    "\n",
    "Plot the ROC for one of the tagging variables. We'll plot the true-positive rate (TPR) vs. the false-positive rate (FPR)."
   ]
  },
  {
   "cell_type": "code",
   "execution_count": null,
   "metadata": {},
   "outputs": [],
   "source": [
    "import matplotlib.pyplot as plt\n",
    "from sklearn.metrics import roc_curve, auc\n",
    "%matplotlib inline\n",
    "fpr = {}\n",
    "tpr = {}\n",
    "threshold = {}\n",
    "plt.figure()\n",
    "\n",
    "tagger = 'ak8_sdmass'\n",
    "fpr[tagger], tpr[tagger], threshold[tagger] = roc_curve(df['label'], df[tagger], sample_weight=df['sample_weight'])\n",
    "myauc = auc(fpr[tagger], tpr[tagger],reorder=True)\n",
    "plt.plot(tpr[tagger],fpr[tagger],label='%s tagger, AUC = %.3f'%(tagger, myauc))\n",
    "\n",
    "plt.legend(loc='best')\n",
    "plt.semilogy()\n",
    "plt.xlim([0, 1])\n",
    "plt.ylim([1e-4, 1])\n",
    "plt.xlabel(\"TPR\");\n",
    "plt.ylabel(\"FPR\");"
   ]
  },
  {
   "cell_type": "markdown",
   "metadata": {},
   "source": [
    "# Checkpoint: \n",
    "\n",
    "Compare performance of other tagging algorithms."
   ]
  },
  {
   "cell_type": "code",
   "execution_count": null,
   "metadata": {},
   "outputs": [],
   "source": [
    "## place holder for checkpoint"
   ]
  },
  {
   "cell_type": "markdown",
   "metadata": {},
   "source": [
    "# Train your own simple tagger\n",
    "\n",
    "Train your own simple tagger with keras."
   ]
  },
  {
   "cell_type": "code",
   "execution_count": null,
   "metadata": {},
   "outputs": [],
   "source": [
    "import keras\n",
    "from keras.models import Model\n",
    "from keras.layers import Input, Activation, Dense\n",
    "\n",
    "inputs = Input(shape=(2,), name = 'input')  \n",
    "x = Dense(5, name = 'dense_1', activation = 'relu')(inputs)\n",
    "outputs = Dense(1, name = 'output', activation='sigmoid')(x)\n",
    "\n",
    "# create the model\n",
    "model = Model(inputs=inputs, outputs=outputs)\n",
    "# compile the model\n",
    "model.compile(optimizer='adam', loss='binary_crossentropy', metrics=['accuracy'])\n",
    "# print the model summary\n",
    "model.summary()"
   ]
  },
  {
   "cell_type": "code",
   "execution_count": null,
   "metadata": {},
   "outputs": [],
   "source": [
    "x = np.vstack([df['ak8_sdmass'], df['ak8_tau21']]).T\n",
    "print(x.shape)\n",
    "y = df['label']\n",
    "print(y.shape)\n",
    "model.fit(x,y, epochs=1)\n",
    "df['ak8_sdmass_tau21'] = model.predict(x)"
   ]
  },
  {
   "cell_type": "markdown",
   "metadata": {},
   "source": [
    "We'll use the result of this training in exercise 3 below."
   ]
  },
  {
   "cell_type": "markdown",
   "metadata": {},
   "source": [
    "# Exercises\n",
    "\n",
    " - Exercise 1: Plot all of the taggers on the same ROC curve\n",
    " - Exercise 2 [done above, feel free to improve/play around]: Train your own custom \"traditional\" tagger based on mSD and tau21\n",
    " - Exercise 3: Add your tagger to the ROC curve\n",
    " - Exercise 4: Repeat with a different signal sample (W, Z, or top)\n",
    " - Exercise 5 [advanced]: Understand the impact of different sets of inputs in the jet classification problem\n",
    " - Exercise 6 [extra]: Look at the 'ak8_sdmass' distribution of signal and background after applying different cuts on the other taggers. Thoughts, ideas, concerns ?\n"
   ]
  },
  {
   "cell_type": "code",
   "execution_count": null,
   "metadata": {},
   "outputs": [],
   "source": []
  }
 ],
 "metadata": {
  "kernelspec": {
   "display_name": "nanohrt-hats",
   "language": "python",
   "name": "nanohrt-hats"
  },
  "language_info": {
   "codemirror_mode": {
    "name": "ipython",
    "version": 2
   },
   "file_extension": ".py",
   "mimetype": "text/x-python",
   "name": "python",
   "nbconvert_exporter": "python",
   "pygments_lexer": "ipython2",
   "version": "2.7.15+"
  }
 },
 "nbformat": 4,
 "nbformat_minor": 2
}
