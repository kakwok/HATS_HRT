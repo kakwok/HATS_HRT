{
 "cells": [
  {
   "cell_type": "markdown",
   "metadata": {},
   "source": [
    "# Signal files\n",
    "First let's look at the available signal files"
   ]
  },
  {
   "cell_type": "code",
   "execution_count": 2,
   "metadata": {},
   "outputs": [
    {
     "name": "stdout",
     "output_type": "stream",
     "text": [
      "/store/user/cmsdas/2023/short_exercises/tagging/BulkGravToZZ_tree.root\n",
      "/store/user/cmsdas/2023/short_exercises/tagging/BulkGravTohh_tree.root\n",
      "/store/user/cmsdas/2023/short_exercises/tagging/BulkGravTohh_tree_noc.root\n",
      "/store/user/cmsdas/2023/short_exercises/tagging/ZprimeToTT_tree.root\n",
      "/store/user/cmsdas/2023/short_exercises/tagging/ZprimeToWW_tree.root\n",
      "/store/user/cmsdas/2023/short_exercises/tagging/qcd-pythia_tree.root\n",
      "/store/user/cmsdas/2023/short_exercises/tagging/qcd-pythia_tree_SLIM.root\n",
      "/store/user/cmsdas/2023/short_exercises/tagging/qcd-pythia_tree_noc.root\n"
     ]
    }
   ],
   "source": [
    "%%bash \n",
    "export XrdSecGSISRVNAMES=cmseos.fnal.gov\n",
    "xrdfs root://cmseos.fnal.gov/ ls /store/user/cmsdas/2023/short_exercises/tagging/"
   ]
  },
  {
   "cell_type": "markdown",
   "metadata": {},
   "source": [
    "# Open signal files and inspect tree\n",
    "Let's open the one signal file and one background file and print the contents of the tree"
   ]
  },
  {
   "cell_type": "code",
   "execution_count": 3,
   "metadata": {},
   "outputs": [
    {
     "data": {
      "text/plain": [
       "'4.3.7'"
      ]
     },
     "execution_count": 3,
     "metadata": {},
     "output_type": "execute_result"
    }
   ],
   "source": [
    "uproot.__version__"
   ]
  },
  {
   "cell_type": "code",
   "execution_count": 2,
   "metadata": {},
   "outputs": [
    {
     "name": "stderr",
     "output_type": "stream",
     "text": [
      "/home/cms.kakwok/das2023_hrt/CMSSW_11_1_0_pre5/bin/coffeaenv/lib/python3.6/site-packages/uproot/reading.py:171: FutureWarning: XRootD 4.12.7 is not fully supported; either upgrade to 5.2.0+ or set\n",
      "\n",
      "    open.defaults[\"xrootd_handler\"] = uproot.MultithreadedXRootDSource\n",
      "\n",
      "  warnings.warn(message, FutureWarning)\n"
     ]
    }
   ],
   "source": [
    "import uproot\n",
    "\n",
    "filename_hh = 'root://cmseos.fnal.gov//store/user/cmsdas/2023/short_exercises/tagging/BulkGravTohh_tree_noc.root'\n",
    "filename_qcd = 'root://cmseos.fnal.gov//store/user/cmsdas/2023/short_exercises/tagging/qcd-pythia_tree_SLIM.root'\n",
    "\n",
    "uptree_hh = uproot.open(filename_hh)[\"Friends\"]\n",
    "uptree_qcd = uproot.open(filename_qcd)[\"Friends\"]\n"
   ]
  },
  {
   "cell_type": "code",
   "execution_count": 8,
   "metadata": {},
   "outputs": [
    {
     "data": {
      "text/plain": [
       "1492191"
      ]
     },
     "execution_count": 8,
     "metadata": {},
     "output_type": "execute_result"
    }
   ],
   "source": [
    "uptree_hh.num_entries"
   ]
  },
  {
   "cell_type": "code",
   "execution_count": 5,
   "metadata": {},
   "outputs": [
    {
     "name": "stdout",
     "output_type": "stream",
     "text": [
      "name                 | typename                 | interpretation                \n",
      "---------------------+--------------------------+-------------------------------\n",
      "i_evt                | int32_t                  | AsDtype('>i4')\n",
      "i_parton             | int32_t                  | AsDtype('>i4')\n",
      "type                 | int32_t                  | AsDtype('>i4')\n",
      "npv                  | int32_t                  | AsDtype('>i4')\n",
      "genweight            | float                    | AsDtype('>f4')\n",
      "gen_n_b_daus         | int32_t                  | AsDtype('>i4')\n",
      "gen_n_c_daus         | int32_t                  | AsDtype('>i4')\n",
      "gen_pt               | float                    | AsDtype('>f4')\n",
      "gen_eta              | float                    | AsDtype('>f4')\n",
      "gen_phi              | float                    | AsDtype('>f4')\n",
      "gen_pdgid            | int32_t                  | AsDtype('>i4')\n",
      "gen_size             | float                    | AsDtype('>f4')\n",
      "gentop_b_pt          | float                    | AsDtype('>f4')\n",
      "gentop_b_eta         | float                    | AsDtype('>f4')\n",
      "gentop_b_phi         | float                    | AsDtype('>f4')\n",
      "gentop_w_pt          | float                    | AsDtype('>f4')\n",
      "gentop_w_eta         | float                    | AsDtype('>f4')\n",
      "gentop_w_phi         | float                    | AsDtype('>f4')\n",
      "gentop_w_size        | float                    | AsDtype('>f4')\n",
      "dR_gen_ak8           | float                    | AsDtype('>f4')\n",
      "ak8_ndaus            | int32_t                  | AsDtype('>i4')\n",
      "ak8_pt               | float                    | AsDtype('>f4')\n",
      "ak8_eta              | float                    | AsDtype('>f4')\n",
      "ak8_phi              | float                    | AsDtype('>f4')\n",
      "ak8_sdmass           | float                    | AsDtype('>f4')\n",
      "ak8_corr_sdmass      | float                    | AsDtype('>f4')\n",
      "ak8_tau21            | float                    | AsDtype('>f4')\n",
      "ak8_tau32            | float                    | AsDtype('>f4')\n",
      "ak8_maxsubjetcsv     | float                    | AsDtype('>f4')\n",
      "ak8_doubleb          | float                    | AsDtype('>f4')\n",
      "ak8_nn_TvsQCD        | float                    | AsDtype('>f4')\n",
      "ak8_nn_WvsQCD        | float                    | AsDtype('>f4')\n",
      "ak8_nn_ZvsQCD        | float                    | AsDtype('>f4')\n",
      "ak8_nn_HbbvsQCD      | float                    | AsDtype('>f4')\n",
      "ak8_decorr_nn_TvsQCD | float                    | AsDtype('>f4')\n",
      "ak8_decorr_nn_WvsQCD | float                    | AsDtype('>f4')\n",
      "ak8_decorr_nn_ZvsQCD | float                    | AsDtype('>f4')\n",
      "ak8_decorr_nn_ZHb... | float                    | AsDtype('>f4')\n",
      "ak8_decorr_nn_bbv... | float                    | AsDtype('>f4')\n",
      "ak8_nn_kin_TvsQCD    | float                    | AsDtype('>f4')\n",
      "ak8_nn_kin_WvsQCD    | float                    | AsDtype('>f4')\n",
      "ak8_nn_kin_ZvsQCD    | float                    | AsDtype('>f4')\n",
      "ak8_nn_kin_HbbvsQCD  | float                    | AsDtype('>f4')\n",
      "ak8_nn_noflv_TvsQCD  | float                    | AsDtype('>f4')\n",
      "ak8_nn_noflv_WvsQCD  | float                    | AsDtype('>f4')\n",
      "ak8_nn_noflv_ZvsQCD  | float                    | AsDtype('>f4')\n",
      "ak8_nn_noflv_Hbbv... | float                    | AsDtype('>f4')\n",
      "ak8_bestT            | float                    | AsDtype('>f4')\n",
      "ak8_bestW            | float                    | AsDtype('>f4')\n",
      "ak8_bestZ            | float                    | AsDtype('>f4')\n",
      "ak8_bestH            | float                    | AsDtype('>f4')\n",
      "ak8_bestQCD          | float                    | AsDtype('>f4')\n",
      "ak8_bestB            | float                    | AsDtype('>f4')\n",
      "ak8_image_top        | float                    | AsDtype('>f4')\n",
      "ak8_image_top_md     | float                    | AsDtype('>f4')\n",
      "ak8_ecfN2            | float                    | AsDtype('>f4')\n",
      "ak8_ecfN2DDT         | float                    | AsDtype('>f4')\n",
      "dR_gen_hotvr         | float                    | AsDtype('>f4')\n",
      "hotvr_pt             | float                    | AsDtype('>f4')\n",
      "hotvr_eta            | float                    | AsDtype('>f4')\n",
      "hotvr_phi            | float                    | AsDtype('>f4')\n",
      "hotvr_mass           | float                    | AsDtype('>f4')\n",
      "hotvr_tau32          | float                    | AsDtype('>f4')\n",
      "hotvr_fpt            | float                    | AsDtype('>f4')\n",
      "hotvr_mmin           | float                    | AsDtype('>f4')\n",
      "hotvr_mmin_fromsu... | float                    | AsDtype('>f4')\n",
      "hotvr_nsubjets       | float                    | AsDtype('>f4')\n",
      "dR_gen_ca15          | float                    | AsDtype('>f4')\n",
      "ca15_ndaus           | int32_t                  | AsDtype('>i4')\n",
      "ca15_pt              | float                    | AsDtype('>f4')\n",
      "ca15_eta             | float                    | AsDtype('>f4')\n",
      "ca15_phi             | float                    | AsDtype('>f4')\n",
      "ca15_sdmass          | float                    | AsDtype('>f4')\n",
      "ca15_ecfTopTagBDT    | float                    | AsDtype('>f4')\n",
      "ca15_maxsubjetcsv    | float                    | AsDtype('>f4')\n",
      "ca15_ecf_0           | float                    | AsDtype('>f4')\n",
      "ca15_ecf_1           | float                    | AsDtype('>f4')\n",
      "ca15_ecf_2           | float                    | AsDtype('>f4')\n",
      "ca15_ecf_3           | float                    | AsDtype('>f4')\n",
      "ca15_ecf_4           | float                    | AsDtype('>f4')\n",
      "ca15_ecf_5           | float                    | AsDtype('>f4')\n",
      "ca15_ecf_6           | float                    | AsDtype('>f4')\n",
      "ca15_ecf_7           | float                    | AsDtype('>f4')\n",
      "ca15_ecf_8           | float                    | AsDtype('>f4')\n",
      "ca15_ecf_9           | float                    | AsDtype('>f4')\n",
      "ca15_ecf_10          | float                    | AsDtype('>f4')\n",
      "rewgt                | float                    | AsDtype('>f4')\n"
     ]
    }
   ],
   "source": [
    "uptree_hh.show()"
   ]
  },
  {
   "cell_type": "markdown",
   "metadata": {},
   "source": [
    "# Plot tagger distributions\n",
    "Let's plot each of the different discriminatig variables distributions "
   ]
  },
  {
   "cell_type": "code",
   "execution_count": 26,
   "metadata": {},
   "outputs": [],
   "source": [
    "# Read all branches in the tree as method of the event obj.\n",
    "hh_events = uproot.lazy(uptree_hh)\n",
    "qcd_events = uproot.lazy(uptree_qcd)"
   ]
  },
  {
   "cell_type": "code",
   "execution_count": null,
   "metadata": {},
   "outputs": [],
   "source": [
    "# all branch names\n",
    "hh_events.fields"
   ]
  },
  {
   "cell_type": "code",
   "execution_count": 24,
   "metadata": {},
   "outputs": [],
   "source": [
    "# Selection for hig\n",
    "def getCut(events):\n",
    "    cut = (events.gen_pt>1000) & (events.gen_pt<1500) & (abs(events.gen_eta)<2.4) & (events.ak8_sdmass>40) & (events.ak8_sdmass<200)\n",
    "    return cut"
   ]
  },
  {
   "cell_type": "code",
   "execution_count": 29,
   "metadata": {},
   "outputs": [],
   "source": [
    "hh_cut  = getCut(hh_events)\n",
    "qcd_cut = getCut(qcd_events)"
   ]
  },
  {
   "cell_type": "code",
   "execution_count": 43,
   "metadata": {},
   "outputs": [
    {
     "name": "stdout",
     "output_type": "stream",
     "text": [
      "min =  40.00023651123047\n",
      "max =  199.89378356933594\n"
     ]
    }
   ],
   "source": [
    "# Range of the discriminator\n",
    "print(\"min = \",min(getattr(hh_events,\"ak8_sdmass\")[hh_cut]))\n",
    "print(\"max = \",max(getattr(hh_events,\"ak8_sdmass\")[hh_cut]))"
   ]
  },
  {
   "cell_type": "code",
   "execution_count": 44,
   "metadata": {},
   "outputs": [
    {
     "data": {
      "text/plain": [
       "(exptext: Custom Text(0.0, 1, 'CMS'),\n",
       " expsuffix: Custom Text(0.0, 1.005, 'Simulation Preliminary'))"
      ]
     },
     "execution_count": 44,
     "metadata": {},
     "output_type": "execute_result"
    },
    {
     "data": {
      "image/png": "[encoded data removed]",
      "text/plain": [
       "<Figure size 720x720 with 1 Axes>"
      ]
     },
     "metadata": {
      "needs_background": "light"
     },
     "output_type": "display_data"
    }
   ],
   "source": [
    "from coffea import hist\n",
    "import mplhep as hep\n",
    "hep.set_style(hep.styles.CMS)\n",
    "\n",
    "tagger = 'ak8_sdmass'\n",
    "# tagger = 'ak8_tau21'\n",
    "#tagger = 'ak8_ecfN2'\n",
    "#tagger = 'ak8_doubleb'\n",
    "#tagger = 'ak8_nn_HbbvsQCD' # DeepAK8\n",
    "#tagger = 'ak8_decorr_nn_ZHbbvsQCD' # DeepAK8-MD\n",
    "#tagger = 'ak8_bestH'\n",
    "\n",
    "h = hist.Hist(\"Events\",\n",
    "              hist.Cat(\"sample\",\"sample\"),\n",
    "              hist.Bin(\"mass\",\"mass[GeV]\",85,30,200))\n",
    "\n",
    "h.fill(sample=\"higgs\",mass = getattr(hh_events,tagger)[hh_cut])\n",
    "h.fill(sample=\"qcd\"  ,mass = getattr(qcd_events,tagger)[qcd_cut])\n",
    "ax = hist.plot1d(h,density=True)\n",
    "hep.cms.label(ax=ax)"
   ]
  },
  {
   "cell_type": "markdown",
   "metadata": {},
   "source": [
    "# checkpoint: \n",
    "plot the output of the ML-based algorithms: e.g. for the Higgs case for DoubleB, DeepAK8 and DeepAK8-MD. Remember: the tagger score is usually a number between 0 and 1..."
   ]
  },
  {
   "cell_type": "code",
   "execution_count": 46,
   "metadata": {},
   "outputs": [],
   "source": [
    "## place holder for the checkpoint"
   ]
  },
  {
   "cell_type": "markdown",
   "metadata": {},
   "source": [
    "# Convert tree to dataframe with `uproot`\n",
    "Open the file with `uproot` and convert the tree to a `pandas` dataframe."
   ]
  },
  {
   "cell_type": "code",
   "execution_count": null,
   "metadata": {},
   "outputs": [],
   "source": [
    "import pandas \n",
    "## this step may take some time \n",
    "branches = ['ak8_nn_HbbvsQCD',\n",
    "            'ak8_decorr_nn_ZHbbvsQCD',\n",
    "            'ak8_doubleb',\n",
    "            'ak8_tau21',\n",
    "            'ak8_ecfN2',\n",
    "            'ak8_bestH',\n",
    "            'ak8_sdmass',\n",
    "            'ak8_pt',\n",
    "            'ak8_eta',\n",
    "            'gen_pt',\n",
    "            'gen_eta']\n",
    "\n",
    "\n",
    "print(\"get hh\")\n",
    "df_hh = uptree_hh.pandas.df(branches=branches+['rewgt'])\n",
    "#print(df_hh)\n",
    "\n",
    "print(\"get QCD\")\n",
    "df_qcd = uptree_qcd.pandas.df(branches=branches+['genweight'])\n",
    "#print(df_qcd)"
   ]
  },
  {
   "cell_type": "markdown",
   "metadata": {},
   "source": [
    "# Apply cuts and merge dataframes\n",
    "Let's apply the same fiducial cuts and merge the signal and background dataframes"
   ]
  },
  {
   "cell_type": "code",
   "execution_count": null,
   "metadata": {},
   "outputs": [],
   "source": [
    "import pandas\n",
    "import numpy as np\n",
    "\n",
    "# mask higgs outside of fiducial cuts\n",
    "mask_hh = (df_hh['gen_pt'] > 1000) & (df_hh['gen_pt'] < 1500) & (np.abs(df_hh['gen_eta']) < 2.4) & (df_hh['ak8_sdmass'] > 40) & (df_hh['ak8_sdmass'] < 200)\n",
    "df_hh = df_hh[mask_hh]\n",
    "df_hh['sample_weight'] = df_hh['rewgt']\n",
    "df_hh['label'] = np.ones((len(df_hh)),dtype=int)\n",
    "\n",
    "# mask qcd outside of fiducial cuts\n",
    "mask_qcd = (df_qcd['gen_pt'] > 1000) & (df_qcd['gen_pt'] < 1500) & (np.abs(df_qcd['gen_eta']) < 2.4) & (df_qcd['ak8_sdmass'] > 40) & (df_qcd['ak8_sdmass'] < 200)\n",
    "df_qcd = df_qcd[mask_qcd]\n",
    "df_qcd['sample_weight'] = df_qcd['genweight']\n",
    "df_qcd['label'] = np.zeros((len(df_qcd)),dtype=int)\n",
    "\n",
    "# concatenate signal and background\n",
    "df = pandas.concat([df_hh,df_qcd])"
   ]
  },
  {
   "cell_type": "markdown",
   "metadata": {},
   "source": [
    "# Plot ROCs\n",
    "Plot the ROC for one of the tagging variables"
   ]
  },
  {
   "cell_type": "code",
   "execution_count": null,
   "metadata": {},
   "outputs": [],
   "source": [
    "import matplotlib.pyplot as plt\n",
    "from sklearn.metrics import roc_curve, auc\n",
    "%matplotlib inline\n",
    "fpr = {}\n",
    "tpr = {}\n",
    "threshold = {}\n",
    "plt.figure()\n",
    "\n",
    "tagger = 'ak8_sdmass'\n",
    "fpr[tagger], tpr[tagger], threshold[tagger] = roc_curve(df['label'], df[tagger], sample_weight=df['sample_weight'])\n",
    "myauc = auc(fpr[tagger], tpr[tagger],reorder=True)\n",
    "plt.plot(tpr[tagger],fpr[tagger],label='%s tagger, AUC = %.3f'%(tagger, myauc))\n",
    "\n",
    "plt.legend(loc='best')\n",
    "plt.semilogy()\n",
    "plt.xlim([0, 1])\n",
    "plt.ylim([1e-4, 1])\n",
    "plt.xlabel(\"TPR\");\n",
    "plt.ylabel(\"FPR\");"
   ]
  },
  {
   "cell_type": "markdown",
   "metadata": {},
   "source": [
    "# checkpoint: \n",
    "Compare performance of other tagging algorithms"
   ]
  },
  {
   "cell_type": "markdown",
   "metadata": {},
   "source": [
    "# Beyond ROC curves: Tagger's response vs. jet mass \n",
    "Study the correlation between the tagger's response and the jet mass\n",
    "Different WP for each algorithm will be provided by the instructor\n",
    "Discussion: thoughts, ideas, concerns ?"
   ]
  },
  {
   "cell_type": "code",
   "execution_count": null,
   "metadata": {},
   "outputs": [],
   "source": []
  },
  {
   "cell_type": "markdown",
   "metadata": {},
   "source": [
    "# Train your own simple tagger\n",
    "Train your own simple tagger with keras"
   ]
  },
  {
   "cell_type": "code",
   "execution_count": null,
   "metadata": {},
   "outputs": [],
   "source": [
    "import keras\n",
    "from keras.models import Model\n",
    "from keras.layers import Input, Activation, Dense\n",
    "\n",
    "inputs = Input(shape=(2,), name = 'input')  \n",
    "x = Dense(5, name = 'dense_1', activation = 'relu')(inputs)\n",
    "outputs = Dense(1, name = 'output', activation='sigmoid')(x)\n",
    "\n",
    "# creae the model\n",
    "model = Model(inputs=inputs, outputs=outputs)\n",
    "# compile the model\n",
    "model.compile(optimizer='adam', loss='binary_crossentropy', metrics=['accuracy'])\n",
    "# print the model summary\n",
    "model.summary()"
   ]
  },
  {
   "cell_type": "code",
   "execution_count": null,
   "metadata": {},
   "outputs": [],
   "source": [
    "x = np.vstack([df['ak8_sdmass'], df['ak8_tau21']]).T\n",
    "print(x.shape)\n",
    "y = df['label']\n",
    "print(y.shape)\n",
    "model.fit(x,y, epochs=1)\n",
    "df['ak8_sdmass_tau21'] = model.predict(x)"
   ]
  },
  {
   "cell_type": "markdown",
   "metadata": {},
   "source": [
    "# Exercises\n",
    " - Exercise 1. Plot all of the taggers on the same ROC curve\n",
    " - Exercise 2. Train your own custom \"traditional\" tagger based on mSD and tau21\n",
    " - Exercise 3. Add your tagger to the ROC curve\n",
    " - Exercise 4. Repeat with a different signal sample (W, Z, or top)\n",
    " - Exercise 5 [advanced]. Understand the impact of different sets of inputs in the jet classification problem"
   ]
  },
  {
   "cell_type": "code",
   "execution_count": null,
   "metadata": {},
   "outputs": [],
   "source": []
  }
 ],
 "metadata": {
  "kernelspec": {
   "display_name": "coffeaenv",
   "language": "python",
   "name": "coffeaenv"
  },
  "language_info": {
   "codemirror_mode": {
    "name": "ipython",
    "version": 3
   },
   "file_extension": ".py",
   "mimetype": "text/x-python",
   "name": "python",
   "nbconvert_exporter": "python",
   "pygments_lexer": "ipython3",
   "version": "3.6.8"
  }
 },
 "nbformat": 4,
 "nbformat_minor": 4
}
